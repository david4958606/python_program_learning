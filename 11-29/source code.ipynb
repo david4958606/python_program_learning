{
 "cells": [
  {
   "cell_type": "markdown",
   "source": [
    "1. 下面程序的功能是从列表中筛选出字符串元素，并将它们连接为一个字符串。 程序运行后的输出情况如下图所示。 请在横线处填写适当的语句或表达式将程序补充完整。"
   ],
   "metadata": {
    "collapsed": false
   }
  },
  {
   "cell_type": "code",
   "execution_count": 1,
   "outputs": [
    {
     "name": "stdout",
     "output_type": "stream",
     "text": [
      "AAAuestcBBB\n"
     ]
    }
   ],
   "source": [
    "s=''\n",
    "t=[123,'AAA',3.14,'uestc',True,'BBB',456]\n",
    "for i in t:\n",
    "    if i == 'AAA' or i == 'uestc' or i == 'BBB':\n",
    "        s+=i\n",
    "else:\n",
    "    print(s)"
   ],
   "metadata": {
    "collapsed": false,
    "pycharm": {
     "name": "#%%\n"
    }
   }
  },
  {
   "cell_type": "markdown",
   "source": [
    "2. 下面程序的功能是从键盘读入一个字符串，在文本块中查找该字符串， 并输出它在文本\n",
    "块中的位置（用索引下标表示）。 程序运行后的输入输出情况如下图所示。 请在横线处填写\n",
    "适当的语句或表达式将程序补充完整。"
   ],
   "metadata": {
    "collapsed": false,
    "pycharm": {
     "name": "#%% md\n"
    }
   }
  },
  {
   "cell_type": "code",
   "execution_count": 14,
   "metadata": {},
   "outputs": [
    {
     "output_type": "stream",
     "name": "stdout",
     "text": [
      "[4, 11]\n"
     ]
    }
   ],
   "source": [
    "x = input(\"x=\")\n",
    "s = \"xyzabcd\" * 2\n",
    "t=[]\n",
    "for i in range(len(s)-len(x)+1):\n",
    "    if x == s[i:i+len(x)]:\n",
    "        t+=[i]\n",
    "else:\n",
    "    print(t)"
   ]
  },
  {
   "cell_type": "markdown",
   "source": [
    "3.下面程序的功能是将字符串中的子串“bcd”全部替换为字符串“AA”。程序运行后的输入输出情况如下图所示。请在横线处填写适当的语句或表达式将程序补充完整。"
   ],
   "metadata": {
    "collapsed": false
   }
  },
  {
   "cell_type": "code",
   "execution_count": null,
   "outputs": [],
   "source": [
    "x='bcd'\n",
    "t='AA'\n",
    "s='xyzabcd'*2\n",
    "for i in range(len(s)-len(x)+1):\n",
    "    if x==s[i:i+len(x)]:\n",
    "        s=s[:i]+t+s[i+len(x)+1:]\n",
    "else:\n",
    "    print(s)"
   ],
   "metadata": {
    "collapsed": false,
    "pycharm": {
     "name": "#%%\n"
    }
   }
  },
  {
   "cell_type": "markdown",
   "source": [
    "4. 下面程序的功能是从键盘读入一个字符串，判断其是否是回文。 程序运行后的输入输出\n",
    "情况如下图所示。 请在横线处填写适当的语句或表达式将程序补充完整。 注：回文是指一个\n",
    "字符串从左向右读与从右向左读相同。例如： noon， level， rotor， boob。"
   ],
   "metadata": {
    "collapsed": false
   }
  },
  {
   "cell_type": "code",
   "execution_count": null,
   "outputs": [],
   "source": [
    "s = input('s=')\n",
    "b = True\n",
    "for i in range(len(s) // 2):\n",
    "    if s[i] != s[len(s) - (i + 1)]:\n",
    "        b = False\n",
    "        break\n",
    "if b:\n",
    "    print('Yes')\n",
    "else:\n",
    "    print('No')"
   ],
   "metadata": {
    "collapsed": false,
    "pycharm": {
     "name": "#%%\n"
    }
   }
  },
  {
   "cell_type": "markdown",
   "source": [
    "5.下面程序的功能是从键盘读入一个由阿拉伯数字组成的字符串（中间可以包含一个小数点），如果它是正整数，就删去其左端的所有0字符，如果它是正小数，就删去其两端的所有0字符，最后再将它转换为数值型数据（int或float）。程序运行后的输入输出情况如下图所示。请在横线处填写适当的语句或表达式将程序补充完整。\n"
   ],
   "metadata": {
    "collapsed": false
   }
  },
  {
   "cell_type": "code",
   "execution_count": null,
   "outputs": [],
   "source": [
    "s = input('s=')\n",
    "if '.' in s:\n",
    "    x = float(s)\n",
    "else:\n",
    "    x = int(s.lstrip('0'))\n",
    "print(x)"
   ],
   "metadata": {
    "collapsed": false,
    "pycharm": {
     "name": "#%%\n"
    }
   }
  },
  {
   "cell_type": "markdown",
   "source": [
    "6.下面程序的功能是从键盘读入一个英文句子，将其转换为标题格式，即每个单词的首字母大写。程序运行后的输入输出情况如下图所示。请在横线处填写适当的语句或表达式将程序补充完整。"
   ],
   "metadata": {
    "collapsed": false
   }
  },
  {
   "cell_type": "code",
   "execution_count": null,
   "outputs": [],
   "source": [
    "s = input('s=')\n",
    "s = s.split()\n",
    "t = ''\n",
    "for i in s:\n",
    "    if not i.istitle():\n",
    "        i = chr(ord(i[0]) - 32) + i[1:]\n",
    "    t += i + ' '\n",
    "else:\n",
    "    t=t.strip()\n",
    "    print(t)"
   ],
   "metadata": {
    "collapsed": false,
    "pycharm": {
     "name": "#%%\n"
    }
   }
  },
  {
   "cell_type": "markdown",
   "source": [
    "24. 编写一段程序实现下面的功能：从键盘读入秘钥数字和明文，使用凯撒密码算法，将明文加密为密文。提示：恺撒密码是一种替换加密的技术，明文中的所有字母都在英文字母表上向后（或向前）按照一个固定数目（秘钥）进行偏移后被替换成密文。例如，当偏移量是3（即key=3）的时候，所有的字母A将被替换成D，B变成E，以此类推，W变成Z，X变成A，Y变成B，Z变成C。"
   ],
   "metadata": {
    "collapsed": false
   }
  },
  {
   "cell_type": "code",
   "execution_count": null,
   "outputs": [],
   "source": [
    "key = int(input('key='))\n",
    "word = input('word=')\n",
    "t = ''\n",
    "for character in word:\n",
    "    if 96 < ord(character) < 123 - key or 64 < ord(character) < 91 - key:\n",
    "       new_char = chr(ord(character) + key)\n",
    "    else:\n",
    "        new_char = chr(ord(character) - 26 + key)\n",
    "    t += new_char\n",
    "print(t)"
   ],
   "metadata": {
    "collapsed": false,
    "pycharm": {
     "name": "#%%\n"
    }
   }
  },
  {
   "source": [],
   "cell_type": "markdown",
   "metadata": {}
  },
  {
   "cell_type": "code",
   "execution_count": 17,
   "metadata": {},
   "outputs": [
    {
     "output_type": "stream",
     "name": "stdout",
     "text": [
      "xyzaAAyzaAA\n"
     ]
    }
   ],
   "source": [
    "x='bcd'\n",
    "t='AA'\n",
    "s='xyzabcd'*2\n",
    "for i in range(len(s)-len(x)+1):\n",
    "    if x==s[i:i+len(x)]:\n",
    "        s=s[:i]+t+s[i+len(x)+1:]\n",
    "else:\n",
    "    print(s)"
   ]
  },
  {
   "source": [
    "4. 下面程序的功能是从键盘读入一个字符串，判断其是否是回文。 程序运行后的输入输出\n",
    "情况如下图所示。 请在横线处填写适当的语句或表达式将程序补充完整。 注：回文是指一个\n",
    "字符串从左向右读与从右向左读相同。例如： noon， level， rotor， boob。"
   ],
   "cell_type": "markdown",
   "metadata": {}
  },
  {
   "cell_type": "code",
   "execution_count": 20,
   "metadata": {},
   "outputs": [
    {
     "output_type": "stream",
     "name": "stdout",
     "text": [
      "Yes\n"
     ]
    }
   ],
   "source": [
    "s = input('s=')\n",
    "b = True\n",
    "for i in range(len(s) // 2):\n",
    "    if s[i] != s[len(s) - (i + 1)]:\n",
    "        b = False\n",
    "        break\n",
    "if b:\n",
    "    print('Yes')\n",
    "else:\n",
    "    print('No')"
   ]
  },
  {
   "source": [
    "5.下面程序的功能是从键盘读入一个由阿拉伯数字组成的字符串（中间可以包含一个小数点），如果它是正整数，就删去其左端的所有0字符，如果它是正小数，就删去其两端的所有0字符，最后再将它转换为数值型数据（int或float）。程序运行后的输入输出情况如下图所示。请在横线处填写适当的语句或表达式将程序补充完整。\n"
   ],
   "cell_type": "markdown",
   "metadata": {}
  },
  {
   "cell_type": "code",
   "execution_count": 4,
   "metadata": {},
   "outputs": [
    {
     "output_type": "stream",
     "name": "stdout",
     "text": [
      "21\n"
     ]
    }
   ],
   "source": [
    "s = input('s=')\n",
    "if '.' in s:\n",
    "    x = float(s)\n",
    "else:\n",
    "    x = int(s.lstrip('0'))\n",
    "print(x)"
   ]
  },
  {
   "source": [
    "6.下面程序的功能是从键盘读入一个英文句子，将其转换为标题格式，即每个单词的首字母大写。程序运行后的输入输出情况如下图所示。请在横线处填写适当的语句或表达式将程序补充完整。"
   ],
   "cell_type": "markdown",
   "metadata": {}
  },
  {
   "cell_type": "code",
   "execution_count": 3,
   "metadata": {},
   "outputs": [
    {
     "output_type": "stream",
     "name": "stdout",
     "text": [
      "Adsf Fdvf\n"
     ]
    }
   ],
   "source": [
    "s = input('s=')\n",
    "s = s.split()\n",
    "t = ''\n",
    "for i in s:\n",
    "    if not i.istitle():\n",
    "        i = chr(ord(i[0]) - 32) + i[1:]\n",
    "    t += i + ' '\n",
    "else:\n",
    "    t=t.strip()\n",
    "    print(t)"
   ]
  },
  {
   "source": [
    "24. 编写一段程序实现下面的功能：从键盘读入秘钥数字和明文，使用凯撒密码算法，将明文加密为密文。提示：恺撒密码是一种替换加密的技术，明文中的所有字母都在英文字母表上向后（或向前）按照一个固定数目（秘钥）进行偏移后被替换成密文。例如，当偏移量是3（即key=3）的时候，所有的字母A将被替换成D，B变成E，以此类推，W变成Z，X变成A，Y变成B，Z变成C。"
   ],
   "cell_type": "markdown",
   "metadata": {}
  },
  {
   "source": [
    "key = int(input('key='))\n",
    "word = input('word=')\n",
    "t = ''\n",
    "for character in word:\n",
    "    if 96 < ord(character) < 123 - key or 64 < ord(character) < 91 - key:\n",
    "       new_char = chr(ord(character) + key)\n",
    "    else:\n",
    "        new_char = chr(ord(character) - 26 + key)\n",
    "    t += new_char\n",
    "print(t)"
   ],
   "cell_type": "code",
   "metadata": {},
   "execution_count": null,
   "outputs": []
  },
  {
   "cell_type": "code",
   "execution_count": null,
   "metadata": {},
   "outputs": [],
   "source": []
  }
 ],
 "metadata": {
  "kernelspec": {
   "name": "python3",
   "language": "python",
   "display_name": "Python 3"
  },
  "language_info": {
   "codemirror_mode": {
    "name": "ipython",
    "version": 2
   },
   "file_extension": ".py",
   "mimetype": "text/x-python",
   "name": "python",
   "nbconvert_exporter": "python",
   "pygments_lexer": "ipython2",
   "version": "3.8.5-final"
  }
 },
 "nbformat": 4,
 "nbformat_minor": 0
}